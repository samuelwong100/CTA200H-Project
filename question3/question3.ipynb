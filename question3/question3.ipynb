{
 "cells": [
  {
   "cell_type": "markdown",
   "metadata": {},
   "source": [
    "$\\bf{Problem Statement}$: Write a function that takes (ra,dec,distance,proper motion ra,proper motion dec,line-of-sight velocity) and their Gaussian uncertainties for a star and computes eccentricity, zmax, rperi, rap and their uncertainties using Monte Carlo sampling with the galpy function galpy.actionAngle.actionAngleStaeckel.EccZmaxRperiRap. Apply to some stars in the Gaia RV sample."
   ]
  },
  {
   "cell_type": "code",
   "execution_count": 216,
   "metadata": {},
   "outputs": [],
   "source": [
    "import numpy as np\n",
    "from galpy.actionAngle import actionAngleStaeckel\n",
    "from galpy.potential import MWPotential2014\n",
    "from astropy.coordinates import ICRS, Galactocentric\n",
    "import astropy.units as u"
   ]
  },
  {
   "cell_type": "code",
   "execution_count": 217,
   "metadata": {},
   "outputs": [],
   "source": [
    "# create a action angle Staeckle object using the approximation delta = 0.4 and runs on c that makes the code faster\n",
    "aAS = actionAngleStaeckel(pot=MWPotential2014,delta=0.4,c=True)"
   ]
  },
  {
   "cell_type": "markdown",
   "metadata": {},
   "source": [
    "Create a function that convert rad dec coordinate to galactocentric coordinate"
   ]
  },
  {
   "cell_type": "code",
   "execution_count": 218,
   "metadata": {},
   "outputs": [],
   "source": [
    "def ICRS_to_Galactocentric_Cylindrical(ra, dec, distance, pm_ra, pm_dec, vr):\n",
    "    \"\"\"\n",
    "    Take a star's coordinate in ICRS form and return the galactocentric cylindrical coordinate in a tuple.\n",
    "    \n",
    "    Args:\n",
    "        ra (float): the right ascension in degree\n",
    "        dec (float): the declination in degree\n",
    "        distance (float): the distance in kpc\n",
    "        pm_ra (float): the proper motion in the right ascension direction in milliarcsec per year\n",
    "        pm_dec (float): the proper motion in the declination direction in milliarcsec per year\n",
    "        radial_velocity (float): the radial velocity in kilometer per second\n",
    "        \n",
    "    Returns:\n",
    "        (R, phi, z, vR, vT, vz): a tuple of 6 Quantity representing the galactocentric cylindrical coordinates\n",
    "    \"\"\"\n",
    "    # create an astroy coordinate object that stores the star's coordinate in ICRS form\n",
    "    star = coord.ICRS(ra = ra*u.degree, dec = dec*u.degree, distance = distance*u.kpc, pm_ra_cosdec = pm_ra*u.mas/u.yr,\n",
    "              pm_dec = pm_dec*u.mas/u.yr, radial_velocity = vr*u.km/u.s)\n",
    "    # convert it to galactocentric coordinate\n",
    "    star = star.transform_to(Galactocentric)\n",
    "    # change it to cylindrical polar coordinate\n",
    "    star.representation = 'cylindrical'\n",
    "    # get the cylindrical polar coordinate attributes\n",
    "    R, phi, z, vR, d_phi, vz  = star.rho, star.phi, star.z, star.d_rho, star.d_phi, star.d_z\n",
    "    # change angular speed to unit of radian and take out the radian unit\n",
    "    d_phi.to(u.rad/u.yr)\n",
    "    d_phi = d_phi/u.rad\n",
    "    # convert angular speed to tangential speed\n",
    "    vT = d_phi * R\n",
    "    # return the attributes\n",
    "    return (R, phi, z, vR, vT, vz)"
   ]
  },
  {
   "cell_type": "markdown",
   "metadata": {},
   "source": [
    "Create a function that computes eccentricity, zmax, rperi, rap"
   ]
  },
  {
   "cell_type": "code",
   "execution_count": 219,
   "metadata": {},
   "outputs": [],
   "source": [
    "def find_EccZmaxRperiRap(ra, dec, distance, pm_ra, pm_dec, vr):\n",
    "    \"\"\"\n",
    "    Args:\n",
    "        ra (float): the right ascension in degree\n",
    "        dec (float): the declination in degree\n",
    "        distance (float): the distance in kpc\n",
    "        pm_ra (float): the proper motion in the right ascension direction in milliarcsec per year\n",
    "        pm_dec (float): the proper motion in the declination direction in milliarcsec per year\n",
    "        radial_velocity (float): the radial velocity in kilometer per second\n",
    "        \n",
    "    Returns:\n",
    "        Ecc (float): the eccentricity of the orbit \n",
    "        Zmax (float): the maximum height of the orbit\n",
    "        Rperi (float): the pericenter\n",
    "        Rap (float): the apocenter\n",
    "    \"\"\"\n",
    "    # get the galactocentric cylindrical coordinate\n",
    "    R, phi, z, vR, vT, vz  = ICRS_to_Galactocentric_Cylindrical(ra, dec, distance, pm_ra, pm_dec, vr)\n",
    "    # compute the star's eccentricity, zmax, rperi, rap\n",
    "    Ecc, Zmax, Rperi, Rap = aAS.EccZmaxRperiRap(R,vR,vT,z,vz,phi)\n",
    "    return  (Ecc, Zmax, Rperi, Rap)"
   ]
  },
  {
   "cell_type": "code",
   "execution_count": 258,
   "metadata": {},
   "outputs": [],
   "source": [
    "def EccZmaxRperiRap_with_uncertainties (ra, dec, distance, pm_ra, pm_dec, vr, ra_u, dec_u, distance_u, pm_ra_u, pm_dec_u, vr_u):\n",
    "    \"\"\"\n",
    "    Args:\n",
    "        ra (float): the right ascension in degree\n",
    "        dec (float): the declination in degree\n",
    "        distance (float): the distance in kpc\n",
    "        pm_ra (float): the proper motion in the right ascension direction in milliarcsec per year\n",
    "        pm_dec (float): the proper motion in the declination direction in milliarcsec per year\n",
    "        radial_velocity (float): the radial velocity in kilometer per second\n",
    "        \n",
    "        ra_u (float): uncertainty of the right ascension in degree\n",
    "        dec_u (float): uncertainty of the declination in degree\n",
    "        distance_u (float): uncertainty of the distance in kpc\n",
    "        pm_ra_u (float): uncertainty of the proper motion in the right ascension direction in milliarcsec per year\n",
    "        pm_dec_u (float): uncertainty of the proper motion in the declination direction in milliarcsec per year\n",
    "        vr_u (float): uncertainty of the radial velocity in kilometer per second\n",
    "        \n",
    "    Returns:\n",
    "        Ecc (float): the eccentricity of the orbit \n",
    "        Zmax (float): the maximum height of the orbit\n",
    "        Rperi (float): the pericenter\n",
    "        Rap (float): the apocenter\n",
    "        \n",
    "        Ecc_u (float): uncertainty of the eccentricity of the orbit \n",
    "        Zmax_u (float): uncertainty of the maximum height of the orbit\n",
    "        Rperi_u (float): uncertainty of the pericenter\n",
    "        Rap_u (float): uncertainty of the apocenter\n",
    "        \n",
    "    \"\"\"\n",
    "    # get the eccentricity, zmax, rperi, rap for the main star\n",
    "    Ecc, Zmax, Rperi, Rap = find_EccZmaxRperiRap(ra, dec, distance, pm_ra, pm_dec, vr)\n",
    "    \n",
    "    # generate a Gaussian distribution centred around the star's ICRS coordinate in the 6 dimensional space\n",
    "    mean = [ra, dec, distance, pm_ra, pm_dec, vr]\n",
    "    # assuming the 6 uncertainties have no correlation, the covariance matrix is just a diagonal matrix with the diagonal\n",
    "    # entries being the standard deviation or the given uncertainties in the coordinates\n",
    "    cov = [[ra_u, 0, 0, 0, 0, 0],\n",
    "           [0, dec_u, 0, 0, 0, 0],\n",
    "           [0, 0, distance_u, 0, 0, 0],\n",
    "           [0, 0, 0, pm_ra_u, 0, 0],\n",
    "           [0, 0, 0, 0, pm_dec_u, 0],\n",
    "           [0, 0, 0, 0, 0, vr_u]]\n",
    "    # generate 100 stars that are normally distributed around the given star\n",
    "    ra_list, dec_list, distance_list, pm_ra_list, pm_dec_list, vr_list = np.random.multivariate_normal(mean, cov, 100).T\n",
    "    \n",
    "    # initialize numpy array that store the list of EccZmaxRperiRap for the randomly generated stars\n",
    "    Ecc_list, Zmax_list, Rperi_list, Rap_list = np.empty((4, 100))\n",
    "    \n",
    "    #initialize counter\n",
    "    counter = 0\n",
    "    # for each star in the list, calculate their eccentricity, zmax, rperi, rap\n",
    "    # let the coordinate of the randomly generated star be r_ra, r_dec, etc\n",
    "    for r_ra, r_dec, r_distance, r_pm_ra, r_pm_dec, r_vr in \\\n",
    "    zip(ra_list, dec_list, distance_list, pm_ra_list, pm_dec_list, vr_list):\n",
    "        # get the EccZmaxRperiRap\n",
    "        r_Ecc, r_Zmax, r_Rperi, r_Rap = find_EccZmaxRperiRap(r_ra, r_dec, r_distance, r_pm_ra, r_pm_dec, r_vr)\n",
    "        # append the result to the respective list\n",
    "        Ecc_list[counter] = r_Ecc\n",
    "        Zmax_list[counter] = r_Zmax\n",
    "        Rperi_list[counter] = r_Rperi\n",
    "        Rap_list[counter] = r_vr\n",
    "        \n",
    "        counter = counter + 1\n",
    "    \n",
    "    print(Ecc_list)\n",
    "    \n",
    "    \n"
   ]
  },
  {
   "cell_type": "code",
   "execution_count": 259,
   "metadata": {},
   "outputs": [
    {
     "ename": "ValueError",
     "evalue": "too many values to unpack (expected 4)",
     "output_type": "error",
     "traceback": [
      "\u001b[1;31m---------------------------------------------------------------------------\u001b[0m",
      "\u001b[1;31mValueError\u001b[0m                                Traceback (most recent call last)",
      "\u001b[1;32m<ipython-input-259-4f7b35f1e529>\u001b[0m in \u001b[0;36m<module>\u001b[1;34m()\u001b[0m\n\u001b[1;32m----> 1\u001b[1;33m \u001b[0mEccZmaxRperiRap_with_uncertainties\u001b[0m\u001b[1;33m(\u001b[0m\u001b[1;36m1\u001b[0m\u001b[1;33m,\u001b[0m\u001b[1;36m1\u001b[0m\u001b[1;33m,\u001b[0m\u001b[1;36m1\u001b[0m\u001b[1;33m,\u001b[0m\u001b[1;36m1\u001b[0m\u001b[1;33m,\u001b[0m\u001b[1;36m1\u001b[0m\u001b[1;33m,\u001b[0m\u001b[1;36m1\u001b[0m\u001b[1;33m,\u001b[0m \u001b[1;36m0.1\u001b[0m\u001b[1;33m,\u001b[0m \u001b[1;36m0.1\u001b[0m\u001b[1;33m,\u001b[0m\u001b[1;36m0.1\u001b[0m\u001b[1;33m,\u001b[0m\u001b[1;36m0.1\u001b[0m\u001b[1;33m,\u001b[0m\u001b[1;36m0.1\u001b[0m\u001b[1;33m,\u001b[0m\u001b[1;36m0.1\u001b[0m\u001b[1;33m)\u001b[0m\u001b[1;33m\u001b[0m\u001b[0m\n\u001b[0m",
      "\u001b[1;32m<ipython-input-258-32d863169097>\u001b[0m in \u001b[0;36mEccZmaxRperiRap_with_uncertainties\u001b[1;34m(ra, dec, distance, pm_ra, pm_dec, vr, ra_u, dec_u, distance_u, pm_ra_u, pm_dec_u, vr_u)\u001b[0m\n\u001b[0;32m     45\u001b[0m \u001b[1;33m\u001b[0m\u001b[0m\n\u001b[0;32m     46\u001b[0m     \u001b[1;31m# initialize numpy array that store the list of EccZmaxRperiRap for the randomly generated stars\u001b[0m\u001b[1;33m\u001b[0m\u001b[1;33m\u001b[0m\u001b[0m\n\u001b[1;32m---> 47\u001b[1;33m     \u001b[0mEcc_list\u001b[0m\u001b[1;33m,\u001b[0m \u001b[0mZmax_list\u001b[0m\u001b[1;33m,\u001b[0m \u001b[0mRperi_list\u001b[0m\u001b[1;33m,\u001b[0m \u001b[0mRap_list\u001b[0m \u001b[1;33m=\u001b[0m \u001b[0mnp\u001b[0m\u001b[1;33m.\u001b[0m\u001b[0mempty\u001b[0m\u001b[1;33m(\u001b[0m\u001b[1;33m(\u001b[0m\u001b[1;36m6\u001b[0m\u001b[1;33m,\u001b[0m \u001b[1;36m100\u001b[0m\u001b[1;33m)\u001b[0m\u001b[1;33m)\u001b[0m\u001b[1;33m\u001b[0m\u001b[0m\n\u001b[0m\u001b[0;32m     48\u001b[0m \u001b[1;33m\u001b[0m\u001b[0m\n\u001b[0;32m     49\u001b[0m     \u001b[1;31m#initialize counter\u001b[0m\u001b[1;33m\u001b[0m\u001b[1;33m\u001b[0m\u001b[0m\n",
      "\u001b[1;31mValueError\u001b[0m: too many values to unpack (expected 4)"
     ]
    }
   ],
   "source": [
    "EccZmaxRperiRap_with_uncertainties(1,1,1,1,1,1, 0.1, 0.1,0.1,0.1,0.1,0.1)"
   ]
  },
  {
   "cell_type": "code",
   "execution_count": null,
   "metadata": {},
   "outputs": [],
   "source": []
  }
 ],
 "metadata": {
  "kernelspec": {
   "display_name": "Python 3",
   "language": "python",
   "name": "python3"
  },
  "language_info": {
   "codemirror_mode": {
    "name": "ipython",
    "version": 3
   },
   "file_extension": ".py",
   "mimetype": "text/x-python",
   "name": "python",
   "nbconvert_exporter": "python",
   "pygments_lexer": "ipython3",
   "version": "3.6.4"
  }
 },
 "nbformat": 4,
 "nbformat_minor": 2
}
