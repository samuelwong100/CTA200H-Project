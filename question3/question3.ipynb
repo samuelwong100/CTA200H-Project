{
 "cells": [
  {
   "cell_type": "markdown",
   "metadata": {},
   "source": [
    "$\\bf{Problem\\ Statement}$: Write a function that takes (ra,dec,distance,proper motion ra,proper motion dec,line-of-sight velocity) and their Gaussian uncertainties for a star and computes eccentricity, zmax, rperi, rap and their uncertainties using Monte Carlo sampling with the galpy function galpy.actionAngle.actionAngleStaeckel.EccZmaxRperiRap. Apply to some stars in the Gaia RV sample."
   ]
  },
  {
   "cell_type": "code",
   "execution_count": 282,
   "metadata": {},
   "outputs": [],
   "source": [
    "import numpy as np\n",
    "from galpy.actionAngle import actionAngleStaeckel\n",
    "from galpy.potential import MWPotential2014\n",
    "from astropy.coordinates import ICRS, Galactocentric\n",
    "import astropy.units as u"
   ]
  },
  {
   "cell_type": "code",
   "execution_count": 283,
   "metadata": {},
   "outputs": [],
   "source": [
    "# create a action angle Staeckle object using the approximation delta = 0.4 and runs on c that makes the code faster\n",
    "aAS = actionAngleStaeckel(pot=MWPotential2014,delta=0.4,c=True)"
   ]
  },
  {
   "cell_type": "markdown",
   "metadata": {},
   "source": [
    "Create a function that convert rad dec coordinate to galactocentric coordinate"
   ]
  },
  {
   "cell_type": "code",
   "execution_count": 284,
   "metadata": {},
   "outputs": [],
   "source": [
    "def ICRS_to_Galactocentric_Cylindrical(ra, dec, distance, pm_ra, pm_dec, vr):\n",
    "    \"\"\"\n",
    "    Take a star's coordinate in ICRS form and return the galactocentric cylindrical coordinate in a tuple.\n",
    "    \n",
    "    Args:\n",
    "        ra (float): the right ascension in degree\n",
    "        dec (float): the declination in degree\n",
    "        distance (float): the distance in kpc\n",
    "        pm_ra (float): the proper motion in the right ascension direction in milliarcsec per year\n",
    "        pm_dec (float): the proper motion in the declination direction in milliarcsec per year\n",
    "        radial_velocity (float): the radial velocity in kilometer per second\n",
    "        \n",
    "    Returns:\n",
    "        (R, phi, z, vR, vT, vz): a tuple of 6 Quantity representing the galactocentric cylindrical coordinates\n",
    "    \"\"\"\n",
    "    # create an astropy coordinate object that stores the star's coordinate in ICRS form\n",
    "    star = coord.ICRS(ra = ra*u.degree, dec = dec*u.degree, distance = distance*u.kpc, pm_ra_cosdec = pm_ra*u.mas/u.yr,\n",
    "              pm_dec = pm_dec*u.mas/u.yr, radial_velocity = vr*u.km/u.s)\n",
    "    # convert it to galactocentric coordinate\n",
    "    star = star.transform_to(Galactocentric)\n",
    "    # change it to cylindrical polar coordinate\n",
    "    star.representation = 'cylindrical'\n",
    "    # get the cylindrical polar coordinate attributes\n",
    "    R, phi, z, vR, d_phi, vz  = star.rho, star.phi, star.z, star.d_rho, star.d_phi, star.d_z\n",
    "    # change angular speed to unit of radian and take out the radian unit\n",
    "    d_phi.to(u.rad/u.yr)\n",
    "    d_phi = d_phi/u.rad\n",
    "    # convert angular speed to tangential speed\n",
    "    vT = d_phi * R\n",
    "    # return the attributes\n",
    "    return (R, phi, z, vR, vT, vz)"
   ]
  },
  {
   "cell_type": "markdown",
   "metadata": {},
   "source": [
    "Create a function that computes eccentricity, zmax, rperi, rap"
   ]
  },
  {
   "cell_type": "code",
   "execution_count": 285,
   "metadata": {},
   "outputs": [],
   "source": [
    "def find_EccZmaxRperiRap(ra, dec, distance, pm_ra, pm_dec, vr):\n",
    "    \"\"\"\n",
    "    Args:\n",
    "        ra (float): the right ascension in degree\n",
    "        dec (float): the declination in degree\n",
    "        distance (float): the distance in kpc\n",
    "        pm_ra (float): the proper motion in the right ascension direction in milliarcsec per year\n",
    "        pm_dec (float): the proper motion in the declination direction in milliarcsec per year\n",
    "        radial_velocity (float): the radial velocity in kilometer per second\n",
    "        \n",
    "    Returns:\n",
    "        Ecc (float): the eccentricity of the orbit \n",
    "        Zmax (float): the maximum height of the orbit\n",
    "        Rperi (float): the pericenter\n",
    "        Rap (float): the apocenter\n",
    "    \"\"\"\n",
    "    # get the galactocentric cylindrical coordinate\n",
    "    R, phi, z, vR, vT, vz  = ICRS_to_Galactocentric_Cylindrical(ra, dec, distance, pm_ra, pm_dec, vr)\n",
    "    # compute the star's eccentricity, zmax, rperi, rap\n",
    "    Ecc, Zmax, Rperi, Rap = aAS.EccZmaxRperiRap(R,vR,vT,z,vz,phi)\n",
    "    return  Ecc[0], Zmax[0], Rperi[0], Rap[0]"
   ]
  },
  {
   "cell_type": "markdown",
   "metadata": {},
   "source": [
    "The main function that return eccentricity, zmax, rperi, rap as well as their uncertainties"
   ]
  },
  {
   "cell_type": "code",
   "execution_count": 293,
   "metadata": {},
   "outputs": [],
   "source": [
    "def EccZmaxRperiRap_with_uncertainties (ra, dec, distance, pm_ra, pm_dec, vr, ra_u, dec_u, distance_u, pm_ra_u, pm_dec_u, vr_u):\n",
    "    \"\"\"\n",
    "    Take a star's ICRS coordinate and their uncertainties. Return the eccentricity, zmax, rperi, rap \n",
    "    as well as their uncertainties using Monte Carlo method.\n",
    "    \n",
    "    Args:\n",
    "        ra (float): the right ascension in degree\n",
    "        dec (float): the declination in degree\n",
    "        distance (float): the distance in kpc\n",
    "        pm_ra (float): the proper motion in the right ascension direction in milliarcsec per year\n",
    "        pm_dec (float): the proper motion in the declination direction in milliarcsec per year\n",
    "        radial_velocity (float): the radial velocity in kilometer per second\n",
    "        \n",
    "        ra_u (float): uncertainty of the right ascension in degree\n",
    "        dec_u (float): uncertainty of the declination in degree\n",
    "        distance_u (float): uncertainty of the distance in kpc\n",
    "        pm_ra_u (float): uncertainty of the proper motion in the right ascension direction in milliarcsec per year\n",
    "        pm_dec_u (float): uncertainty of the proper motion in the declination direction in milliarcsec per year\n",
    "        vr_u (float): uncertainty of the radial velocity in kilometer per second\n",
    "        \n",
    "    Returns:\n",
    "        A tuple of pairs (of tuple) in the form (value, uncertainty):\n",
    "            ((Ecc,Ecc_u), (Zmax,Zmax_u), (Rperi, Rperi_u), (Rap, Rap_u))\n",
    "        where\n",
    "            Ecc (float): the eccentricity of the orbit \n",
    "            Zmax (float): the maximum height of the orbit\n",
    "            Rperi (float): the pericenter\n",
    "            Rap (float): the apocenter\n",
    "\n",
    "            Ecc_u (float): uncertainty of the eccentricity of the orbit \n",
    "            Zmax_u (float): uncertainty of the maximum height of the orbit\n",
    "            Rperi_u (float): uncertainty of the pericenter\n",
    "            Rap_u (float): uncertainty of the apocenter\n",
    "\n",
    "    \"\"\"\n",
    "    # get the eccentricity, zmax, rperi, rap for the main star\n",
    "    Ecc, Zmax, Rperi, Rap = find_EccZmaxRperiRap(ra, dec, distance, pm_ra, pm_dec, vr)\n",
    "    \n",
    "    # generate a Gaussian distribution centred around the star's ICRS coordinate in the 6 dimensional space\n",
    "    mean = [ra, dec, distance, pm_ra, pm_dec, vr]\n",
    "    # assuming the 6 uncertainties have no correlation, the covariance matrix is just a diagonal matrix with the diagonal\n",
    "    # entries being the standard deviation or the given uncertainties in the coordinates\n",
    "    cov = [[ra_u, 0, 0, 0, 0, 0],\n",
    "           [0, dec_u, 0, 0, 0, 0],\n",
    "           [0, 0, distance_u, 0, 0, 0],\n",
    "           [0, 0, 0, pm_ra_u, 0, 0],\n",
    "           [0, 0, 0, 0, pm_dec_u, 0],\n",
    "           [0, 0, 0, 0, 0, vr_u]]\n",
    "    # generate 100 stars that are normally distributed around the given star\n",
    "    ra_list, dec_list, distance_list, pm_ra_list, pm_dec_list, vr_list = np.random.multivariate_normal(mean, cov, 100).T\n",
    "    \n",
    "    # initialize numpy array that store the list of EccZmaxRperiRap for the randomly generated stars\n",
    "    Ecc_list, Zmax_list, Rperi_list, Rap_list = np.empty((4, 100))\n",
    "    \n",
    "    #initialize counter\n",
    "    counter = 0\n",
    "    # for each star in the list, calculate their eccentricity, zmax, rperi, rap\n",
    "    # let the coordinate of the randomly generated star be r_ra, r_dec, etc\n",
    "    for r_ra, r_dec, r_distance, r_pm_ra, r_pm_dec, r_vr in \\\n",
    "    zip(ra_list, dec_list, distance_list, pm_ra_list, pm_dec_list, vr_list):\n",
    "        # get the EccZmaxRperiRap\n",
    "        r_Ecc, r_Zmax, r_Rperi, r_Rap = find_EccZmaxRperiRap(r_ra, r_dec, r_distance, r_pm_ra, r_pm_dec, r_vr)\n",
    "        # append the result to the respective list\n",
    "        Ecc_list[counter] = r_Ecc\n",
    "        Zmax_list[counter] = r_Zmax\n",
    "        Rperi_list[counter] = r_Rperi\n",
    "        Rap_list[counter] = r_Rap\n",
    "        # accumulate the counter\n",
    "        counter = counter + 1\n",
    "        \n",
    "    # calculate the standard deviation in the list of the EccZmaxRperiRap values for the generated stars\n",
    "    # the results are the uncertainty of the EccZmaxRperiRap values of the main star\n",
    "    Ecc_u = np.std(Ecc_list)\n",
    "    Zmax_u = np.std(Zmax_list)\n",
    "    Rperi_u = np.std(Rperi_list)\n",
    "    Rap_u = np.std(Rap_list)\n",
    "    \n",
    "    # return the EccZmaxRperiRap values of the main star as well as their uncertainties\n",
    "    return  (Ecc,Ecc_u), (Zmax,Zmax_u), (Rperi, Rperi_u), (Rap, Rap_u)\n"
   ]
  },
  {
   "cell_type": "code",
   "execution_count": null,
   "metadata": {},
   "outputs": [],
   "source": []
  }
 ],
 "metadata": {
  "kernelspec": {
   "display_name": "Python 3",
   "language": "python",
   "name": "python3"
  },
  "language_info": {
   "codemirror_mode": {
    "name": "ipython",
    "version": 3
   },
   "file_extension": ".py",
   "mimetype": "text/x-python",
   "name": "python",
   "nbconvert_exporter": "python",
   "pygments_lexer": "ipython3",
   "version": "3.6.4"
  }
 },
 "nbformat": 4,
 "nbformat_minor": 2
}
