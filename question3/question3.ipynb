{
 "cells": [
  {
   "cell_type": "markdown",
   "metadata": {},
   "source": [
    "$\\bf{Problem Statement}$: Write a function that takes (ra,dec,distance,proper motion ra,proper motion dec,line-of-sight velocity) and their Gaussian uncertainties for a star and computes eccentricity, zmax, rperi, rap and their uncertainties using Monte Carlo sampling with the galpy function galpy.actionAngle.actionAngleStaeckel.EccZmaxRperiRap. Apply to some stars in the Gaia RV sample."
   ]
  },
  {
   "cell_type": "code",
   "execution_count": 185,
   "metadata": {},
   "outputs": [],
   "source": [
    "import numpy as np\n",
    "from galpy.actionAngle import actionAngleStaeckel\n",
    "from galpy.potential import MWPotential2014\n",
    "from astropy.coordinates import ICRS, Galactocentric\n",
    "import astropy.units as u"
   ]
  },
  {
   "cell_type": "code",
   "execution_count": 186,
   "metadata": {},
   "outputs": [],
   "source": [
    "# create a action angle Staeckle object using the approximation delta = 0.4 and runs on c that makes the code faster\n",
    "aAS = actionAngleStaeckel(pot=MWPotential2014,delta=0.4,c=True)"
   ]
  },
  {
   "cell_type": "code",
   "execution_count": 187,
   "metadata": {},
   "outputs": [],
   "source": [
    "def ICRS_to_Galactocentric_Cylindrical(ra, dec, distance, pm_ra, pm_dec, vr):\n",
    "    \"\"\"\n",
    "    Take a star's coordinate in ICRS form and return the galactocentric cylindrical coordinate in a tuple.\n",
    "    \n",
    "    Args:\n",
    "        ra (float): the right ascension in degree\n",
    "        dec (float): the declination in degree\n",
    "        distance (float): the distance in kpc\n",
    "        pm_ra (float): the proper motion in the right ascension direction in milliarcsec per year\n",
    "        pm_dec (float): the proper motion in the declination direction in milliarcsec per year\n",
    "        radial_velocity (float): the radial velocity in kilometer per second\n",
    "        \n",
    "    Returns:\n",
    "        (R, phi, z, vR, vT, vz): a tuple of 6 Quantity representing the galactocentric cylindrical coordinates\n",
    "    \n",
    "    \"\"\"\n",
    "    # create an astroy coordinate object that stores the star's coordinate in ICRS form\n",
    "    star = coord.ICRS(ra = ra*u.degree, dec = dec*u.degree, distance = distance*u.kpc, pm_ra_cosdec = pm_ra*u.mas/u.yr,\n",
    "              pm_dec = pm_dec*u.mas/u.yr, radial_velocity = vr*u.km/u.s)\n",
    "    # convert it to galactocentric coordinate\n",
    "    star = star.transform_to(Galactocentric)\n",
    "    # change it to cylindrical polar coordinate\n",
    "    star.representation = 'cylindrical'\n",
    "    # get the cylindrical polar coordinate attributes\n",
    "    R, phi, z, vR, d_phi, vz  = star.rho, star.phi, star.z, star.d_rho, star.d_phi, star.d_z\n",
    "    # change angular speed to unit of radian and take out the radian unit\n",
    "    d_phi.to(u.rad/u.yr)\n",
    "    d_phi = d_phi/u.rad\n",
    "    # convert angular speed to tangential speed\n",
    "    vT = d_phi * R\n",
    "    # return the attributes\n",
    "    return (R, phi, z, vR, vT, vz)\n",
    "\n",
    "def find_EccZmaxRperiRap(ra, dec, distance, pm_ra, pm_dec, vr):\n",
    "    # get the galactocentric cylindrical coordinate\n",
    "    R, phi, z, vR, vT, vz  = ICRS_to_Galactocentric_Cylindrical(ra, dec, distance, pm_ra, pm_dec, vr)\n",
    "    # compute the star's eccentricity, zmax, rperi, rap\n",
    "    Ecc, Zmax, Rperi, Rap = aAS.EccZmaxRperiRap(R,vR,vT,z,vz,phi)\n",
    "    return  (Ecc, Zmax, Rperi, Rap)\n",
    "\n",
    "\n",
    "def EccZmaxRperiRap_with_uncertainties (ra, dec, distance, pm_ra, pm_dec, vr, ra_u, dec_u, distance_u, pm_ra_u, pm_dec_u, vr_u):\n",
    "    \"\"\"\n",
    "    Args:\n",
    "        ra (float): the right ascension in degree\n",
    "        dec (float): the declination in degree\n",
    "        distance (float): the distance in kpc\n",
    "        pm_ra (float): the proper motion in the right ascension direction in milliarcsec per year\n",
    "        pm_dec (float): the proper motion in the declination direction in milliarcsec per year\n",
    "        radial_velocity (float): the radial velocity in kilometer per second\n",
    "        \n",
    "    Returns:\n",
    "        Ecc (float): the eccentricity of the orbit \n",
    "        Zmax (float): the maximum height of the orbit\n",
    "        Rperi (float): \n",
    "        Rap (float):\n",
    "    \n",
    "    \"\"\"\n",
    "    Ecc, Zmax, Rperi, Rap = find_EccZmaxRperiRap(ra, dec, distance, pm_ra, pm_dec, vr)\n",
    "    \n",
    "    \n",
    "    \n"
   ]
  },
  {
   "cell_type": "code",
   "execution_count": 188,
   "metadata": {
    "scrolled": false
   },
   "outputs": [
    {
     "name": "stdout",
     "output_type": "stream",
     "text": [
      "8.39616064068874 kpc 176d35m28.28s -0.835639539061056 kpc 1.9674795419415028 kpc mas / (rad yr) -5.877872351137361 mas / yr 1.6400270194930917 kpc mas / (rad yr)\n"
     ]
    }
   ],
   "source": [
    "star = coord.ICRS(ra = 1*u.degree, dec = 1*u.degree, distance = 1*u.kpc, pm_ra_cosdec = 1*u.mas/u.yr,\n",
    "              pm_dec = 1*u.mas/u.yr, radial_velocity = 1*u.km/u.s)\n",
    "\n",
    "star = star.transform_to(Galactocentric)\n",
    "star.representation = 'cylindrical'\n",
    "R, phi, z, vR, vT, vz  = star.rho, star.phi, star.z, star.d_rho, star.d_phi, star.d_z\n",
    "print(R, phi, z, vR, vT, vz)"
   ]
  },
  {
   "cell_type": "code",
   "execution_count": null,
   "metadata": {},
   "outputs": [],
   "source": []
  },
  {
   "cell_type": "code",
   "execution_count": null,
   "metadata": {},
   "outputs": [],
   "source": []
  },
  {
   "cell_type": "code",
   "execution_count": null,
   "metadata": {},
   "outputs": [],
   "source": []
  }
 ],
 "metadata": {
  "kernelspec": {
   "display_name": "Python 3",
   "language": "python",
   "name": "python3"
  },
  "language_info": {
   "codemirror_mode": {
    "name": "ipython",
    "version": 3
   },
   "file_extension": ".py",
   "mimetype": "text/x-python",
   "name": "python",
   "nbconvert_exporter": "python",
   "pygments_lexer": "ipython3",
   "version": "3.6.4"
  }
 },
 "nbformat": 4,
 "nbformat_minor": 2
}
