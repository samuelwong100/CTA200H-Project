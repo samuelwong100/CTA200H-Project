{
 "cells": [
  {
   "cell_type": "markdown",
   "metadata": {},
   "source": [
    "$\\bf{Problem Statement}$: Write a function that takes (ra,dec,distance,proper motion ra,proper motion dec,line-of-sight velocity) and their Gaussian uncertainties for a star and computes eccentricity, zmax, rperi, rap and their uncertainties using Monte Carlo sampling with the galpy function galpy.actionAngle.actionAngleStaeckel.EccZmaxRperiRap. Apply to some stars in the Gaia RV sample."
   ]
  },
  {
   "cell_type": "code",
   "execution_count": 13,
   "metadata": {},
   "outputs": [],
   "source": [
    "import numpy as np\n",
    "from galpy.actionAngle import actionAngleStaeckel\n",
    "from galpy.potential import MWPotential2014\n",
    "from astropy.coordinates import ICRS\n",
    "import astropy.units as u"
   ]
  },
  {
   "cell_type": "code",
   "execution_count": 16,
   "metadata": {},
   "outputs": [],
   "source": [
    "def EccZmaxRperiRap_with_uncertainties (ra, dec, distance, pm_ra, pm_dec, vr, ra_u, dec_u, distance_u, pm_ra_u, pm_dec_u, vr_u):\n",
    "    \"\"\"\n",
    "    Args:\n",
    "        ra: a float that represents the right ascension in degree\n",
    "        dec: a float that represents the declination in degree\n",
    "        distance: a float that represents the distance in kpc\n",
    "        pm_ra: a float that represents the proper motion in the right ascension direction in milliarcsec per year\n",
    "        pm_dec: a float that represents the proper motion in the declination direction in milliarcsec per year\n",
    "        radial_velocity = a float that represents the radial velocity in kilometer per second\n",
    "        \n",
    "    Returns:\n",
    "    \n",
    "    \"\"\"\n",
    "    # create an astroy coordinate object that stores the star's coordinate in ICRS form\n",
    "    star_coord = coord.ICRS(ra = ra*u.degree, dec = dec*u.degree, distance = distance*u.kpc, pm_ra_cosdec = pm_ra*u.mas/u.yr,\n",
    "              pm_dec = pm_dec*u.mas/u.yr, radial_velocity = vr*u.km/u.s)\n",
    "    \n",
    "    \n",
    "    aAS = actionAngleStaeckel(pot=MWPotential2014,delta=0.4,c=True)\n",
    "    \n",
    "    \n",
    "    \n"
   ]
  }
 ],
 "metadata": {
  "kernelspec": {
   "display_name": "Python 3",
   "language": "python",
   "name": "python3"
  },
  "language_info": {
   "codemirror_mode": {
    "name": "ipython",
    "version": 3
   },
   "file_extension": ".py",
   "mimetype": "text/x-python",
   "name": "python",
   "nbconvert_exporter": "python",
   "pygments_lexer": "ipython3",
   "version": "3.6.4"
  }
 },
 "nbformat": 4,
 "nbformat_minor": 2
}
