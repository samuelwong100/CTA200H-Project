{
 "cells": [
  {
   "cell_type": "markdown",
   "metadata": {},
   "source": [
    "$\\bf{Problem\\ Statement:}$ Write a Python function that takes the name of a star and returns a galpy Orbit object (setup with the star's position, distance, proper motion, and radial velocity). Apply to: GJ 440, Lacaille 8760, Vega. Check that you are finding the right star."
   ]
  },
  {
   "cell_type": "code",
   "execution_count": 2,
   "metadata": {},
   "outputs": [
    {
     "name": "stdout",
     "output_type": "stream",
     "text": [
      "Created TAP+ (v1.0.1) - Connection:\n",
      "\tHost: gea.esac.esa.int\n",
      "\tUse HTTPS: False\n",
      "\tPort: 80\n",
      "\tSSL Port: 443\n"
     ]
    }
   ],
   "source": [
    "from galpy.potential import MWPotential2014\n",
    "from galpy.orbit import Orbit\n",
    "from gaia_tools import query\n",
    "from astropy.coordinates import SkyCoord\n",
    "from astroquery.simbad import Simbad"
   ]
  },
  {
   "cell_type": "markdown",
   "metadata": {},
   "source": [
    "Write a function that takes the name of star and return position and velocity from SIMBAD"
   ]
  },
  {
   "cell_type": "code",
   "execution_count": 18,
   "metadata": {},
   "outputs": [
    {
     "data": {
      "text/plain": [
       "['main_id', 'coordinates', 'plx', 'pmra', 'pmdec', 'rv_value']"
      ]
     },
     "execution_count": 18,
     "metadata": {},
     "output_type": "execute_result"
    }
   ],
   "source": [
    "customSimbad = Simbad()\n",
    "customSimbad.add_votable_fields('plx', 'pmra','pmdec', 'rv_value')\n"
   ]
  },
  {
   "cell_type": "code",
   "execution_count": null,
   "metadata": {},
   "outputs": [],
   "source": []
  },
  {
   "cell_type": "code",
   "execution_count": null,
   "metadata": {},
   "outputs": [],
   "source": []
  },
  {
   "cell_type": "markdown",
   "metadata": {},
   "source": [
    "Write the SQL query statement"
   ]
  },
  {
   "cell_type": "code",
   "execution_count": 2,
   "metadata": {},
   "outputs": [],
   "source": [
    "#sql = \"SELECT * FROM gaiadr2.gaia_source WHERE ra BETWEEN\"\n",
    "#out = query.query()"
   ]
  },
  {
   "cell_type": "markdown",
   "metadata": {},
   "source": [
    "Create galpy orbit, given a star's position, distance, proper motion, and radial velocity"
   ]
  },
  {
   "cell_type": "code",
   "execution_count": null,
   "metadata": {},
   "outputs": [],
   "source": [
    "def orbit_from_name(name):\n",
    "    \"\"\"\n",
    "    Take a star's name and return a galpy Orbit object.\n",
    "    \n",
    "    Args:\n",
    "        name (string): the name of given star\n",
    "        \n",
    "    Returns:\n",
    "        o (Orbit): a galpy orbit object that represents the star's orbit\n",
    "    \"\"\"\n",
    "    # get the position and velocity in ICRS form from Simbad; search by name\n",
    "    ra, dec, parallax, pm_ra, pm_dec, vr = simbad_coord(name)\n",
    "    # since these coordinates are from J2000, use Gaia catalogue to find its new coordinate in current epoch\n",
    "    ra, dec = correct_for_current_epoch(ra, dec, parallax, pm_ra, pm_dec, vr = None)\n",
    "    # query Gaia catalogue for the star's coordinate adn velocity; the gaia's data has a 'g' prefix\n",
    "    g_ra, g_dec, g_parallax, g_pm_ra, g_pm_dec, g_vr = gaia_coord(ra, dec)\n",
    "    \n",
    "    # if gaia does not contain the star, use simbad's result; but otherwise, prefer gaia's result\n",
    "    if g_ra is None:\n",
    "        data = (ra, dec, parallax, pm_ra, pm_dec, vr)\n",
    "    else:\n",
    "        data = (g_ra, g_dec, g_parallax, g_pm_ra, g_pm_dec, g_vr)\n",
    "    \n",
    "    # take care of the case where no radial velocity is given in Gaia\n",
    "    data = check_for_missing_vr(data, vr)\n",
    "    # convert the coordinate to galactocentric\n",
    "    R,vR,vT,z,vz,phi = convert_to_galactocentric(data)\n",
    "    # create the galpy object and return the result\n",
    "    o = Orbit(vxvv = [R,vR,vT,z,vz,phi])\n",
    "    return o"
   ]
  }
 ],
 "metadata": {
  "kernelspec": {
   "display_name": "Python 3",
   "language": "python",
   "name": "python3"
  },
  "language_info": {
   "codemirror_mode": {
    "name": "ipython",
    "version": 3
   },
   "file_extension": ".py",
   "mimetype": "text/x-python",
   "name": "python",
   "nbconvert_exporter": "python",
   "pygments_lexer": "ipython3",
   "version": "3.6.4"
  }
 },
 "nbformat": 4,
 "nbformat_minor": 2
}
