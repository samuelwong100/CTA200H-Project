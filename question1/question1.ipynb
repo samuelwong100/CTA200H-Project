{
 "cells": [
  {
   "cell_type": "markdown",
   "metadata": {},
   "source": [
    "$\\bf{Problem\\ Statement:}$ Write a Python function that takes the name of a star and returns a galpy Orbit object (setup with the star's position, distance, proper motion, and radial velocity). Apply to: GJ 440, Lacaille 8760, Vega. Check that you are finding the right star."
   ]
  },
  {
   "cell_type": "code",
   "execution_count": 169,
   "metadata": {},
   "outputs": [],
   "source": [
    "from galpy.potential import MWPotential2014\n",
    "from galpy.orbit import Orbit\n",
    "from gaia_tools import query\n",
    "from astropy.coordinates import SkyCoord\n",
    "from astroquery.simbad import Simbad\n",
    "from astroquery.gaia import Gaia\n",
    "from numpy.ma import is_masked\n",
    "import astropy.units as u"
   ]
  },
  {
   "cell_type": "markdown",
   "metadata": {},
   "source": [
    "Write a function that takes the name of star and return position and velocity from Simbad"
   ]
  },
  {
   "cell_type": "code",
   "execution_count": 170,
   "metadata": {},
   "outputs": [],
   "source": [
    "def simbad_coord(name):\n",
    "    \"\"\"\n",
    "    Take a star's name and return the position and velocity from Simbad.\n",
    "    \n",
    "    Args:\n",
    "        name (string): the name of given star\n",
    "        \n",
    "    Returns:\n",
    "        a list of 6 Quantity that represents the star's positioon and velocity:\n",
    "        [ra, dec, parallax, pm_ra, pm_dec, vr]\n",
    "        where\n",
    "        ra (float): the right ascension in degree\n",
    "        dec (float): the declination in degree\n",
    "        parallx (float): the parallax in mas\n",
    "        pm_ra (float): the proper motion in the right ascension direction in mas/yr\n",
    "        pm_dec (float): the proper motion in the declination direction in mas/yr\n",
    "        radial_velocity (float / None): the radial velocity in km/s; if not given by simbad, this is None\n",
    "    \"\"\"\n",
    "    # create a Simbad object\n",
    "    customSimbad = Simbad()\n",
    "    # since the usual fields only include the 2 diensional coordinates, add parallax and velocity\n",
    "    customSimbad.add_votable_fields('plx', 'pmra','pmdec', 'rv_value')\n",
    "    # query simbad by the name\n",
    "    simbad_table = customSimbad.query_object(name)\n",
    "    result = [simbad_table['RA'][0], simbad_table['DEC'][0], simbad_table['PLX_VALUE'][0], \n",
    "              simbad_table['PMRA'][0], simbad_table['PMDEC'][0], simbad_table['RV_VALUE'][0]]\n",
    "    # take care of the case when there is no raidal velocity\n",
    "    if is_masked(result[5]):\n",
    "        result[5] = None\n",
    "        \n",
    "    # change the simbad coordinate to a format Gaia can use\n",
    "    # convert the hourangle - degree unit given by simbad to just degree using skycoord object\n",
    "    simbad_coord = SkyCoord(ra = result[0], dec = result[1], unit = (u.hourangle, u.deg))\n",
    "    result[0] = simbad_coord.ra.value\n",
    "    result[1] = simbad_coord.dec.value\n",
    "    return result"
   ]
  },
  {
   "cell_type": "markdown",
   "metadata": {},
   "source": [
    "Create a function that query Gaia catalog using the data from simbad."
   ]
  },
  {
   "cell_type": "code",
   "execution_count": 171,
   "metadata": {},
   "outputs": [],
   "source": [
    "def gaia_coord(ra, dec, parallax, pm_ra, pm_dec, vr):\n",
    "    \"\"\"\n",
    "    Take a star's position and velocity from Simbad. Return the position and velocity in Gaia catalog.\n",
    "    \n",
    "    Args:\n",
    "        ra (float): the right ascension in degree\n",
    "        dec (float): the declination in degree\n",
    "        parallx (float): the parallax in mas\n",
    "        pm_ra (float): the proper motion in the right ascension direction in mas/yr\n",
    "        pm_dec (float): the proper motion in the declination direction in mas/yr\n",
    "        vr (float / None): the radial velocity in km/s; if not given by simbad, this is None\n",
    "        \n",
    "    Returns:\n",
    "        None if Gaia cannot find the star. Else, a list containg the six coorinates for position and velocity from Gaia:\n",
    "        [g_ra, g_dec, g_plx g_pmra, g_pmdec, g_rv]\n",
    "        where\n",
    "        g_ra (float): the right ascension in degree\n",
    "        g_dec (float): the declination in degree\n",
    "        g_parallax (float): the parallax in mas\n",
    "        g_pm_ra (float): the proper motion in the right ascension direction in mas/yr\n",
    "        g_pm_dec (float): the proper motion in the declination direction in mas/yr\n",
    "        g_vr (float / None): the radial velocity in km/s; None if Gaia provides no value\n",
    "    \"\"\"\n",
    "    # set radius of cone search\n",
    "    radius = (1.0 * u.arcsec).to(u.deg)\n",
    "    # if there is no given vr, set it to 0\n",
    "    if vr is None:\n",
    "        vr = 0\n",
    "    simbad_data = (ra, dec, parallax, pm_ra, pm_dec, vr)\n",
    "    # since simbad coordinates are from J2000, use Gaia catalogue to find its new coordinate in current epoch and then perform\n",
    "    # cone search\n",
    "    query =  \"\"\"\n",
    "             SELECT source_id, ra, dec, pmra, pmdec, parallax, radial_velocity\n",
    "             FROM gaiadr2.gaia_source\n",
    "             WHERE 1=CONTAINS(\n",
    "             POINT('ICRS',gaiadr2.gaia_source.ra,gaiadr2.gaia_source.dec),\n",
    "             CIRCLE('ICRS', \n",
    "             COORD1(EPOCH_PROP_POS({0},{1},{2},{3},{4},{5},2000,2015.5)),\n",
    "             COORD2(EPOCH_PROP_POS({0},{1},{2},{3},{4},{5},2000,2015.5)), {6}))\n",
    "             \"\"\".format(*simbad_data, radius.value)\n",
    "    # perform the search and get the result in a table\n",
    "    job = Gaia.launch_job_async(query)\n",
    "    gaia_table = job.get_results()\n",
    "    \n",
    "    # if gaia does not have the star, the table has length zero\n",
    "    if len(gaia_table) == 0:\n",
    "        return None\n",
    "    else:\n",
    "        # unpack the table\n",
    "        g_ra = gaia_table['ra'][0]\n",
    "        g_dec = gaia_table['dec'][0]\n",
    "        g_parallax = gaia_table['parallax'][0]\n",
    "        g_pm_ra = gaia_table['pmra'][0]\n",
    "        g_pm_dec = gaia_table['pmdec'][0]\n",
    "        g_vr = gaia_table['radial_velocity'][0]\n",
    "        if is_masked(g_vr):\n",
    "            g_vr = None\n",
    "        return [g_ra, g_dec, g_parallax, g_pm_ra, g_pm_dec, g_vr]"
   ]
  },
  {
   "cell_type": "markdown",
   "metadata": {},
   "source": [
    "Create a function that takes replaces or fills in missing radial velocity"
   ]
  },
  {
   "cell_type": "code",
   "execution_count": 172,
   "metadata": {},
   "outputs": [],
   "source": [
    "def check_for_missing_vr(data, vr):\n",
    "    \"\"\"\n",
    "    Take the current data for the star's coordinate and velocity, as well as radial velocity from Simbad. Check whether\n",
    "    any of the radial velocity is None. If there is one that is not None, use the other one. Else, use the approximate\n",
    "    value of 20 km/s.\n",
    "    \n",
    "    Args:\n",
    "        data (list): the six coordinates of position and velocity. The last one is radial velocity\n",
    "        vr (float): the radial velocity data from Simbad\n",
    "        \n",
    "    Returns:\n",
    "        current_vr (float): the final radial velocity to be used\n",
    "    \"\"\"\n",
    "    current_vr = data[5]\n",
    "    # if the data does not already have radial velocity (this could either be that the data is from Gaia, which does not have\n",
    "    # radial velocity; or that the data is from simbad, in which case we are not changing the value of vr),\n",
    "    # set it to the radial velocity given by simbad\n",
    "    if current_vr is None:\n",
    "        current_vr = vr\n",
    "    # if simbad also does not have radial velocity, guess the number 20, which is that of the sun\n",
    "    if current_vr is None:\n",
    "        current_vr = 20.0\n",
    "    return current_vr"
   ]
  },
  {
   "cell_type": "markdown",
   "metadata": {},
   "source": [
    "The main function that takes the star name and return the galpy orbit object"
   ]
  },
  {
   "cell_type": "code",
   "execution_count": 173,
   "metadata": {},
   "outputs": [],
   "source": [
    "def orbit_from_name(name):\n",
    "    \"\"\"\n",
    "    Take a star's name and return a galpy Orbit object.\n",
    "    \n",
    "    Args:\n",
    "        name (string): the name of given star\n",
    "        \n",
    "    Returns:\n",
    "        o (Orbit): a galpy orbit object that represents the star's orbit\n",
    "    \"\"\"\n",
    "    # get the position and velocity in ICRS form from Simbad; search by name\n",
    "    ra, dec, parallax, pm_ra, pm_dec, vr = simbad_coord(name)\n",
    "    # query Gaia catalogue for the star's coordinate and velocity\n",
    "    gaia_result = gaia_coord(ra, dec, parallax, pm_ra, pm_dec, vr)\n",
    "    \n",
    "    # if gaia does not contain the star, use simbad's result; but otherwise, prefer gaia's result\n",
    "    if gaia_result is None:\n",
    "        data = [ra, dec, parallax, pm_ra, pm_dec, vr]\n",
    "    else:\n",
    "        data = gaia_result\n",
    "    \n",
    "    # take care of the case where no radial velocity is given in Gaia\n",
    "    data[5] = check_for_missing_vr(data, vr)\n",
    "    # change the parallax to distance, the unit is now in kpc\n",
    "    data[2] = 1/data[2]\n",
    "    # create the galpy object and return the result\n",
    "    o = Orbit(vxvv = data, radec=True,ro=8.,vo=220.)\n",
    "    return o"
   ]
  },
  {
   "cell_type": "code",
   "execution_count": 176,
   "metadata": {},
   "outputs": [
    {
     "name": "stdout",
     "output_type": "stream",
     "text": [
      "Query finished.\n",
      "176.4557771399642 -64.84300499994973 215.7372575196972 2661.594499440631 -344.84677507977284 20.000000000029228\n"
     ]
    }
   ],
   "source": [
    "orbit = orbit_from_name('GJ 440')\n",
    "print(orbit.ra(), orbit.dec(), 1/orbit.dist(), orbit.pmra(), orbit.pmdec(), orbit.vlos())"
   ]
  },
  {
   "cell_type": "code",
   "execution_count": 177,
   "metadata": {},
   "outputs": [
    {
     "name": "stdout",
     "output_type": "stream",
     "text": [
      "Query finished.\n",
      "319.29559940778796 -38.872297249579795 251.82949243678786 -3258.55312752384 -1145.3957291888823 20.561701480874195\n"
     ]
    }
   ],
   "source": [
    "orbit = orbit_from_name('Lacaille 8760')\n",
    "print(orbit.ra(), orbit.dec(), 1/orbit.dist(), orbit.pmra(), orbit.pmdec(), orbit.vlos())"
   ]
  },
  {
   "cell_type": "code",
   "execution_count": 178,
   "metadata": {},
   "outputs": [
    {
     "name": "stdout",
     "output_type": "stream",
     "text": [
      "Query finished.\n",
      "279.23473458332927 38.78368888887406 130.2299999999866 200.93999999993576 286.2299999998336 -20.600000000003046\n"
     ]
    }
   ],
   "source": [
    "orbit = orbit_from_name('Vega')\n",
    "print(orbit.ra(), orbit.dec(), 1/orbit.dist(), orbit.pmra(), orbit.pmdec(), orbit.vlos())"
   ]
  },
  {
   "cell_type": "code",
   "execution_count": null,
   "metadata": {},
   "outputs": [],
   "source": []
  }
 ],
 "metadata": {
  "kernelspec": {
   "display_name": "Python 3",
   "language": "python",
   "name": "python3"
  },
  "language_info": {
   "codemirror_mode": {
    "name": "ipython",
    "version": 3
   },
   "file_extension": ".py",
   "mimetype": "text/x-python",
   "name": "python",
   "nbconvert_exporter": "python",
   "pygments_lexer": "ipython3",
   "version": "3.6.4"
  }
 },
 "nbformat": 4,
 "nbformat_minor": 2
}
