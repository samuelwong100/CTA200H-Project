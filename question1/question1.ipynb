{
 "cells": [
  {
   "cell_type": "markdown",
   "metadata": {},
   "source": [
    "$\\bf{Problem\\ Statement:}$ Write a Python function that takes the name of a star and returns a galpy Orbit object (setup with the star's position, distance, proper motion, and radial velocity). Apply to: GJ 440, Lacaille 8760, Vega. Check that you are finding the right star."
   ]
  },
  {
   "cell_type": "code",
   "execution_count": 51,
   "metadata": {},
   "outputs": [],
   "source": [
    "from galpy.potential import MWPotential2014\n",
    "from galpy.orbit import Orbit\n",
    "from gaia_tools import query\n",
    "from astropy.coordinates import SkyCoord\n",
    "from astroquery.simbad import Simbad\n",
    "from numpy.ma import is_masked"
   ]
  },
  {
   "cell_type": "markdown",
   "metadata": {},
   "source": [
    "Write a function that takes the name of star and return position and velocity from Simbad"
   ]
  },
  {
   "cell_type": "code",
   "execution_count": 52,
   "metadata": {},
   "outputs": [],
   "source": [
    "def simbad_coord(name):\n",
    "    \"\"\"\n",
    "    Take a star's name and return the position and velocity from Simbad.\n",
    "    \n",
    "    Args:\n",
    "        name (string): the name of given star\n",
    "        \n",
    "    Returns:\n",
    "        a list of 6 Quantity that represents the star's positioon and velocity:\n",
    "        [ra, dec, parallax, pm_ra, pm_dec, vr]\n",
    "        where\n",
    "        ra (str): the right ascension in d:m:s\n",
    "        dec (str): the declination in h:m:s\n",
    "        parallx (float): the parallax in mas\n",
    "        pm_ra (float): the proper motion in the right ascension direction in mas/yr\n",
    "        pm_dec (float): the proper motion in the declination direction in mas/yr\n",
    "        radial_velocity (float / None): the radial velocity in km/s; if not given by simbad, this is None\n",
    "    \"\"\"\n",
    "    # create a Simbad object\n",
    "    customSimbad = Simbad()\n",
    "    # since the usual fields only include the 2 diensional coordinates, add parallax and velocity\n",
    "    customSimbad.add_votable_fields('plx', 'pmra','pmdec', 'rv_value')\n",
    "    # query simbad by the name\n",
    "    simbad_table = customSimbad.query_object(name)\n",
    "    result = [simbad_table['RA'][0], simbad_table['DEC'][0], simbad_table['PLX_VALUE'][0], \n",
    "              simbad_table['PMRA'][0], simbad_table['PMDEC'][0], simbad_table['RV_VALUE'][0]]\n",
    "    # take care of the case when there is no raidal velocity\n",
    "    if is_masked(result[5]):\n",
    "        result[5] = None\n",
    "\n",
    "    return result\n"
   ]
  },
  {
   "cell_type": "code",
   "execution_count": 53,
   "metadata": {},
   "outputs": [
    {
     "data": {
      "text/plain": [
       "['21 17 15.2687', '-38 52 02.495', 253.41, -3260.29, -1146.22, 20.11]"
      ]
     },
     "execution_count": 53,
     "metadata": {},
     "output_type": "execute_result"
    }
   ],
   "source": [
    "simbad_coord('Lacaille 8760')"
   ]
  },
  {
   "cell_type": "code",
   "execution_count": null,
   "metadata": {},
   "outputs": [],
   "source": []
  },
  {
   "cell_type": "markdown",
   "metadata": {},
   "source": [
    "Write the SQL query statement"
   ]
  },
  {
   "cell_type": "code",
   "execution_count": 2,
   "metadata": {},
   "outputs": [],
   "source": [
    "#sql = \"SELECT * FROM gaiadr2.gaia_source WHERE ra BETWEEN\"\n",
    "#out = query.query()"
   ]
  },
  {
   "cell_type": "markdown",
   "metadata": {},
   "source": [
    "Create galpy orbit, given a star's position, distance, proper motion, and radial velocity"
   ]
  },
  {
   "cell_type": "code",
   "execution_count": null,
   "metadata": {},
   "outputs": [],
   "source": [
    "def orbit_from_name(name):\n",
    "    \"\"\"\n",
    "    Take a star's name and return a galpy Orbit object.\n",
    "    \n",
    "    Args:\n",
    "        name (string): the name of given star\n",
    "        \n",
    "    Returns:\n",
    "        o (Orbit): a galpy orbit object that represents the star's orbit\n",
    "    \"\"\"\n",
    "    # get the position and velocity in ICRS form from Simbad; search by name\n",
    "    ra, dec, parallax, pm_ra, pm_dec, vr = simbad_coord(name)\n",
    "    # since these coordinates are from J2000, use Gaia catalogue to find its new coordinate in current epoch\n",
    "    ra, dec = correct_for_current_epoch(ra, dec, parallax, pm_ra, pm_dec, vr = None)\n",
    "    # query Gaia catalogue for the star's coordinate adn velocity; the gaia's data has a 'g' prefix\n",
    "    g_ra, g_dec, g_parallax, g_pm_ra, g_pm_dec, g_vr = gaia_coord(ra, dec)\n",
    "    \n",
    "    # if gaia does not contain the star, use simbad's result; but otherwise, prefer gaia's result\n",
    "    if g_ra is None:\n",
    "        data = (ra, dec, parallax, pm_ra, pm_dec, vr)\n",
    "    else:\n",
    "        data = (g_ra, g_dec, g_parallax, g_pm_ra, g_pm_dec, g_vr)\n",
    "    \n",
    "    # take care of the case where no radial velocity is given in Gaia\n",
    "    data = check_for_missing_vr(data, vr)\n",
    "    # convert the coordinate to galactocentric\n",
    "    R,vR,vT,z,vz,phi = convert_to_galactocentric(data)\n",
    "    # create the galpy object and return the result\n",
    "    o = Orbit(vxvv = [R,vR,vT,z,vz,phi])\n",
    "    return o"
   ]
  }
 ],
 "metadata": {
  "kernelspec": {
   "display_name": "Python 3",
   "language": "python",
   "name": "python3"
  },
  "language_info": {
   "codemirror_mode": {
    "name": "ipython",
    "version": 3
   },
   "file_extension": ".py",
   "mimetype": "text/x-python",
   "name": "python",
   "nbconvert_exporter": "python",
   "pygments_lexer": "ipython3",
   "version": "3.6.4"
  }
 },
 "nbformat": 4,
 "nbformat_minor": 2
}
