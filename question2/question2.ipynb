{
 "cells": [
  {
   "cell_type": "markdown",
   "metadata": {},
   "source": [
    "Match the APOGEE-red-clump catalog to Gaia DR2, integrate the orbits using galpy for 20 Gyr, and make a density plot in Galactocentric X and Y coordinates of all of the positions of the stars over the next 20 Gyr."
   ]
  },
  {
   "cell_type": "code",
   "execution_count": null,
   "metadata": {},
   "outputs": [],
   "source": [
    "#import os\n",
    "# set environment variable for gaia_tools.load to work\n",
    "#os.environ['GAIA_TOOLS_DATA'] = \"C:/Users/user/Git Hub Projects/GAIA_TOOLS_DATA\""
   ]
  },
  {
   "cell_type": "code",
   "execution_count": 32,
   "metadata": {},
   "outputs": [],
   "source": [
    "import astropy.units as u\n",
    "import gaia_tools.load as gload\n",
    "import gaia_tools.xmatch as gmatch\n",
    "from galpy.potential import MWPotential2014\n",
    "from galpy.orbit import Orbit\n",
    "from astropy.coordinates import SkyCoord\n",
    "import numpy as np"
   ]
  },
  {
   "cell_type": "markdown",
   "metadata": {},
   "source": [
    "load the data from APOGEE red clump"
   ]
  },
  {
   "cell_type": "code",
   "execution_count": 24,
   "metadata": {},
   "outputs": [
    {
     "name": "stderr",
     "output_type": "stream",
     "text": [
      "C:\\Users\\user\\AppData\\Roaming\\Python\\Python36\\site-packages\\gaia_tools-0.2-py3.6.egg\\gaia_tools\\load\\__init__.py:94: UserWarning: Falling back on simple APOGEE interface; for more functionality, install the jobovy/apogee package\n",
      "  warnings.warn(\"Falling back on simple APOGEE interface; for more functionality, install the jobovy/apogee package\")\n"
     ]
    }
   ],
   "source": [
    "aprc= gload.apogeerc()\n",
    "gaia2_matches, matches_indx = gmatch.cds(aprc, xcat='vizier:I/345/gaia2')"
   ]
  },
  {
   "cell_type": "code",
   "execution_count": 25,
   "metadata": {},
   "outputs": [
    {
     "data": {
      "text/plain": [
       "dtype([('angDist', '<f8'), ('RA', '<f8'), ('DEC', '<f8'), ('ra_epoch2000', '<f8'), ('dec_epoch2000', '<f8'), ('errHalfMaj', '<f8'), ('errHalfMin', '<f8'), ('errPosAng', '<f8'), ('source_id', '<f8'), ('ra', '<f8'), ('ra_error', '<f8'), ('dec', '<f8'), ('dec_error', '<f8'), ('parallax', '<f8'), ('parallax_error', '<f8'), ('pmra', '<f8'), ('pmra_error', '<f8'), ('pmdec', '<f8'), ('pmdec_error', '<f8'), ('duplicated_source', '<f8'), ('phot_g_mean_flux', '<f8'), ('phot_g_mean_flux_error', '<f8'), ('phot_g_mean_mag', '<f8'), ('phot_bp_mean_flux', '<f8'), ('phot_bp_mean_flux_error', '<f8'), ('phot_bp_mean_mag', '<f8'), ('phot_rp_mean_flux', '<f8'), ('phot_rp_mean_flux_error', '<f8'), ('phot_rp_mean_mag', '<f8'), ('bp_rp', '<f8'), ('radial_velocity', '<f8'), ('radial_velocity_error', '<f8'), ('teff_val', '<f8'), ('a_g_val', '<f8'), ('e_bp_min_rp_val', '<f8'), ('radius_val', '<f8'), ('lum_val', '<f8')])"
      ]
     },
     "execution_count": 25,
     "metadata": {},
     "output_type": "execute_result"
    }
   ],
   "source": [
    "gaia2_matches.dtype"
   ]
  },
  {
   "cell_type": "code",
   "execution_count": 30,
   "metadata": {},
   "outputs": [],
   "source": [
    "ra_list = gaia2_matches['ra']\n",
    "dec_list = gaia2_matches['dec']\n",
    "parallax_list = gaia2_matches['parallax']\n",
    "radial_velocity_list = gaia2_matches['radial_velocity']\n",
    "proper_motion_ra = gaia2_matches['pmra']\n",
    "proper_motion_dec = gaia2_matches['pmdec']"
   ]
  },
  {
   "cell_type": "code",
   "execution_count": 33,
   "metadata": {},
   "outputs": [
    {
     "data": {
      "text/plain": [
       "19282"
      ]
     },
     "execution_count": 33,
     "metadata": {},
     "output_type": "execute_result"
    }
   ],
   "source": []
  },
  {
   "cell_type": "code",
   "execution_count": 35,
   "metadata": {},
   "outputs": [
    {
     "data": {
      "text/plain": [
       "19282"
      ]
     },
     "execution_count": 35,
     "metadata": {},
     "output_type": "execute_result"
    }
   ],
   "source": []
  },
  {
   "cell_type": "code",
   "execution_count": null,
   "metadata": {},
   "outputs": [],
   "source": []
  }
 ],
 "metadata": {
  "kernelspec": {
   "display_name": "Python 3",
   "language": "python",
   "name": "python3"
  },
  "language_info": {
   "codemirror_mode": {
    "name": "ipython",
    "version": 3
   },
   "file_extension": ".py",
   "mimetype": "text/x-python",
   "name": "python",
   "nbconvert_exporter": "python",
   "pygments_lexer": "ipython3",
   "version": "3.6.4"
  }
 },
 "nbformat": 4,
 "nbformat_minor": 2
}
