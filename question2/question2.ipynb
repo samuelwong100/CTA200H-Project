{
 "cells": [
  {
   "cell_type": "markdown",
   "metadata": {},
   "source": [
    "Problem Statement: Match the APOGEE-red-clump catalog to Gaia DR2, integrate the orbits using galpy for 20 Gyr, and make a density plot in Galactocentric X and Y coordinates of all of the positions of the stars over the next 20 Gyr."
   ]
  },
  {
   "cell_type": "code",
   "execution_count": 35,
   "metadata": {},
   "outputs": [],
   "source": [
    "import astropy.units as u\n",
    "import gaia_tools.load as gload\n",
    "import gaia_tools.xmatch as gmatch\n",
    "from galpy.potential import MWPotential2014\n",
    "from galpy.orbit import Orbit\n",
    "from astropy.coordinates import SkyCoord\n",
    "import numpy as np\n",
    "import time as time_class\n",
    "import matplotlib.pyplot as plt\n",
    "import os"
   ]
  },
  {
   "cell_type": "markdown",
   "metadata": {},
   "source": [
    "Load the data from APOGEE red clump and cross match with gaia2"
   ]
  },
  {
   "cell_type": "code",
   "execution_count": 36,
   "metadata": {},
   "outputs": [
    {
     "name": "stdout",
     "output_type": "stream",
     "text": [
      "C:\\Users\\user\\AppData\\Roaming\\Python\\Python36\\site-packages\\gaia_tools-0.2-py3.6.egg\\gaia_tools\\load\\__init__.py:94: UserWarning: Falling back on simple APOGEE interface; for more functionality, install the jobovy/apogee package\n",
      "  warnings.warn(\"Falling back on simple APOGEE interface; for more functionality, install the jobovy/apogee package\")\n",
      "\n"
     ]
    }
   ],
   "source": [
    "aprc = gload.apogeerc()\n",
    "# call the cross match cds function\n",
    "if os.path.exists(\"gaia_apogee_xmatch.csv\"):\n",
    "    gaia2_matches = gmatch.cds_load(\"gaia_apogee_xmatch.csv\")\n",
    "else:\n",
    "    gaia2_matches, matches_indx = gmatch.cds(aprc, xcat='vizier:I/345/gaia2', savefilename = \"gaia_apogee_xmatch.csv\")"
   ]
  },
  {
   "cell_type": "markdown",
   "metadata": {},
   "source": [
    "Since not all the stars have radial velocity, take out all the stars whose radial velocity is -9999.99 (an error value)"
   ]
  },
  {
   "cell_type": "code",
   "execution_count": 37,
   "metadata": {},
   "outputs": [
    {
     "name": "stdout",
     "output_type": "stream",
     "text": [
      "There are currently a total of 12313 stars.\n"
     ]
    }
   ],
   "source": [
    "gaia2_matches = gaia2_matches[gaia2_matches['radial_velocity'] != -9999.99]\n",
    "# store the number of stars to integrate\n",
    "number_of_stars = np.size(gaia2_matches)\n",
    "print('There are currently a total of {} stars.'.format(number_of_stars))"
   ]
  },
  {
   "cell_type": "markdown",
   "metadata": {},
   "source": [
    "Since there are a lot of stars, if user only wants to test a subset of the stars, they can set the list to the first few"
   ]
  },
  {
   "cell_type": "code",
   "execution_count": 38,
   "metadata": {},
   "outputs": [
    {
     "name": "stdout",
     "output_type": "stream",
     "text": [
      "Enter the number of stars you want to work with (has to be lower than current number):100\n"
     ]
    }
   ],
   "source": [
    "number_of_stars = int(input(\"Enter the number of stars you want to work with (has to be lower than current number):\"))"
   ]
  },
  {
   "cell_type": "markdown",
   "metadata": {},
   "source": [
    "Get the list of the 6 position and vleocity coordinates for all of the stars"
   ]
  },
  {
   "cell_type": "code",
   "execution_count": 39,
   "metadata": {},
   "outputs": [],
   "source": [
    "ra_list = gaia2_matches['ra']\n",
    "dec_list = gaia2_matches['dec']\n",
    "parallax_list = gaia2_matches['parallax']\n",
    "vr_list = gaia2_matches['radial_velocity']\n",
    "pm_ra_list = gaia2_matches['pmra']\n",
    "pm_dec_list = gaia2_matches['pmdec']"
   ]
  },
  {
   "cell_type": "markdown",
   "metadata": {},
   "source": [
    "Initialize variable needed for integrating orbit and storing the results"
   ]
  },
  {
   "cell_type": "code",
   "execution_count": 40,
   "metadata": {},
   "outputs": [],
   "source": [
    "# create time step array\n",
    "total_year = 20 # in giga year unit\n",
    "number_of_time_interval = 100 # divide total_year into this many time steps\n",
    "ts = np.linspace(0,total_year, number_of_time_interval)*u.Gyr\n",
    "# initialize orbit list\n",
    "o = []\n",
    "# initialize numpy array to store the list of star coordinate\n",
    "star_coord_x = np.empty((number_of_time_interval, number_of_stars))\n",
    "star_coord_y = np.empty((number_of_time_interval, number_of_stars))"
   ]
  },
  {
   "cell_type": "markdown",
   "metadata": {},
   "source": [
    "Create an orbit object for each star. Give user the option to use saved data."
   ]
  },
  {
   "cell_type": "code",
   "execution_count": null,
   "metadata": {
    "scrolled": true
   },
   "outputs": [],
   "source": [
    "use_saved = input(\"Do you want to use saved data? (y/n)\")\n",
    "if use_saved ==  'n':\n",
    "    file_name = input(\"File name to store the star coordinates data (without extension): \")\n",
    "    file_name = file_name + '.npz'\n",
    "    \n",
    "    # initialize start time\n",
    "    start= time_class.time()\n",
    "    for i in range(number_of_stars):\n",
    "        # for each star, get the 6 coordinates from list\n",
    "        ra, dec, parallax, vr, v_ra, v_dec = ra_list[i], dec_list[i], parallax_list[i], vr_list[i], pm_ra_list[i], pm_dec_list[i]\n",
    "        # use parallex to find radial distance\n",
    "        d = 1/parallax # since parallax is given in milliarcsecond, its inverse is kpc\n",
    "\n",
    "        # create orbit object\n",
    "        # the units are already in desired form, radec = True means we are using righ ascention - declination initialization format\n",
    "        # in order for galpy to output physical unit, we need to set radius and velocity scale\n",
    "        o.append(Orbit(vxvv = [ra,dec,d,v_ra, v_dec,vr], radec = True, ro = 8., vo = 220.)) \n",
    "        # for each star, integrate their orbit over the next 20 Gyr using the most up-to-date Milky Way potential\n",
    "        o[i].integrate(ts,MWPotential2014)\n",
    "        print(\"integrated star \", i)\n",
    "\n",
    "        #run a loop that stores the position of the star at each time step\n",
    "        for t in range(number_of_time_interval):\n",
    "            star_coord_x[t][i] = o[i].x(t)\n",
    "            star_coord_y[t][i] = o[i].y(t)\n",
    "\n",
    "        # print out progess report and time taken\n",
    "        if i%100 == 0:\n",
    "            time_elapsed = time_class.time() - start\n",
    "            print(\"Completed: {} %, time taken: {} \".format(i/number_of_stars*100, time_elapsed))\n",
    "\n",
    "    # save the star coordinate array\n",
    "    np.savez(filename, star_coord_x = star_coord_x, star_coord_y = star_coord_y )\n",
    "    \n",
    "elif use_saved ==  'y':\n",
    "    file_name = input(\"File name to be opened (without extension): \")\n",
    "    file_name = file_name + '.npz'\n",
    "    data = np.load(file_name)\n",
    "    star_coord_x = data['star_coord_x']\n",
    "    star_coord_y = data['star_coord_y']\n",
    "    \n",
    "else:\n",
    "    raise Exception(\"Answer must be (y/n)\")"
   ]
  },
  {
   "cell_type": "code",
   "execution_count": 43,
   "metadata": {},
   "outputs": [],
   "source": [
    "# create a list of all x and y position over all time\n",
    "list_of_all_x = np.empty(number_of_time_interval*number_of_stars)\n",
    "list_of_all_y = np.empty(number_of_time_interval*number_of_stars)\n",
    "counter = 0\n",
    "for t in range(number_of_time_interval):\n",
    "    for i in range(number_of_stars):\n",
    "        list_of_all_x[counter] = star_coord_x[t][i]\n",
    "        list_of_all_y[counter] = star_coord_y[t][i]\n",
    "        counter = counter + 1"
   ]
  },
  {
   "cell_type": "code",
   "execution_count": null,
   "metadata": {},
   "outputs": [],
   "source": [
    "%pylab inline\n",
    "\n",
    "plt.hist2d(list_of_all_x,list_of_all_y, bins = 300, cmap = 'plasma', vmin = 0 , vmax = 5)\n",
    "plt.colorbar()\n",
    "plt.savefig(\"Density Plot Over 20 Gyr.pdf\")"
   ]
  },
  {
   "cell_type": "code",
   "execution_count": null,
   "metadata": {},
   "outputs": [],
   "source": []
  },
  {
   "cell_type": "code",
   "execution_count": null,
   "metadata": {},
   "outputs": [],
   "source": []
  },
  {
   "cell_type": "code",
   "execution_count": null,
   "metadata": {},
   "outputs": [],
   "source": []
  }
 ],
 "metadata": {
  "kernelspec": {
   "display_name": "Python 3",
   "language": "python",
   "name": "python3"
  },
  "language_info": {
   "codemirror_mode": {
    "name": "ipython",
    "version": 3
   },
   "file_extension": ".py",
   "mimetype": "text/x-python",
   "name": "python",
   "nbconvert_exporter": "python",
   "pygments_lexer": "ipython3",
   "version": "3.6.4"
  }
 },
 "nbformat": 4,
 "nbformat_minor": 2
}
