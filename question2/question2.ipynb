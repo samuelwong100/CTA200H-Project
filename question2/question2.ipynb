{
 "cells": [
  {
   "cell_type": "markdown",
   "metadata": {},
   "source": [
    "Match the APOGEE-red-clump catalog to Gaia DR2, integrate the orbits using galpy for 20 Gyr, and make a density plot in Galactocentric X and Y coordinates of all of the positions of the stars over the next 20 Gyr."
   ]
  },
  {
   "cell_type": "code",
   "execution_count": 11,
   "metadata": {},
   "outputs": [],
   "source": [
    "import astropy.units as u\n",
    "import gaia_tools.load as gload\n",
    "import gaia_tools.xmatch as gmatch\n",
    "from galpy.potential import MWPotential2014\n",
    "from galpy.orbit import Orbit\n",
    "from astropy.coordinates import SkyCoord\n",
    "import numpy as np"
   ]
  },
  {
   "cell_type": "markdown",
   "metadata": {},
   "source": [
    "Load the data from APOGEE red clump and cross match with gaia2"
   ]
  },
  {
   "cell_type": "code",
   "execution_count": 12,
   "metadata": {},
   "outputs": [
    {
     "name": "stdout",
     "output_type": "stream",
     "text": [
      "C:\\Users\\user\\AppData\\Roaming\\Python\\Python36\\site-packages\\gaia_tools-0.2-py3.6.egg\\gaia_tools\\load\\__init__.py:94: UserWarning: Falling back on simple APOGEE interface; for more functionality, install the jobovy/apogee package\n",
      "  warnings.warn(\"Falling back on simple APOGEE interface; for more functionality, install the jobovy/apogee package\")\n",
      "\n"
     ]
    }
   ],
   "source": [
    "aprc= gload.apogeerc()\n",
    "gaia2_matches, matches_indx = gmatch.cds(aprc, xcat='vizier:I/345/gaia2')"
   ]
  },
  {
   "cell_type": "markdown",
   "metadata": {},
   "source": [
    "Get the list of the 6 coordinates"
   ]
  },
  {
   "cell_type": "code",
   "execution_count": 13,
   "metadata": {},
   "outputs": [],
   "source": [
    "# take out all the stars whose radial velocity is -9999.99\n",
    "gaia2_matches = gaia2_matches[gaia2_matches['radial_velocity'] != -9999.99]"
   ]
  },
  {
   "cell_type": "code",
   "execution_count": 14,
   "metadata": {},
   "outputs": [],
   "source": [
    "ra_list = gaia2_matches['ra']\n",
    "dec_list = gaia2_matches['dec']\n",
    "parallax_list = gaia2_matches['parallax']\n",
    "vr_list = gaia2_matches['radial_velocity']\n",
    "pm_ra_list = gaia2_matches['pmra']\n",
    "pm_dec_list = gaia2_matches['pmdec']"
   ]
  },
  {
   "cell_type": "code",
   "execution_count": 15,
   "metadata": {},
   "outputs": [],
   "source": [
    "# create time array\n",
    "ts = np.linspace(0,20,1000)\n",
    "# initialize orbit list\n",
    "o = []\n",
    "# initialize star location plot\n",
    "star_coord = []"
   ]
  },
  {
   "cell_type": "markdown",
   "metadata": {},
   "source": [
    "Create an orbit object for each star"
   ]
  },
  {
   "cell_type": "code",
   "execution_count": null,
   "metadata": {},
   "outputs": [
    {
     "name": "stdout",
     "output_type": "stream",
     "text": [
      "Populating the interactive namespace from numpy and matplotlib\n",
      "0.0 ,  0.1520085334777832\n",
      "0.008121497604158206 ,  10.204583644866943\n",
      "0.016242995208316412 ,  19.773130893707275\n",
      "0.02436449281247462 ,  29.335678100585938\n",
      "0.032485990416632825 ,  37.87516641616821\n",
      "0.04060748802079103 ,  46.29864835739136\n",
      "0.04872898562494924 ,  55.14515423774719\n",
      "0.05685048322910745 ,  65.09472322463989\n",
      "0.06497198083326565 ,  74.07323694229126\n",
      "0.07309347843742386 ,  83.22376036643982\n",
      "0.08121497604158207 ,  92.54029297828674\n",
      "0.08933647364574028 ,  102.00783467292786\n",
      "0.09745797124989848 ,  111.66638708114624\n",
      "0.10557946885405668 ,  121.40694427490234\n",
      "0.1137009664582149 ,  131.95154738426208\n",
      "0.1218224640623731 ,  142.44214725494385\n",
      "0.1299439616665313 ,  151.84668517112732\n",
      "0.13806545927068953 ,  162.10727214813232\n",
      "0.14618695687484773 ,  172.32685661315918\n",
      "0.15430845447900593 ,  181.7943980693817\n",
      "0.16242995208316413 ,  194.02909803390503\n",
      "0.17055144968732233 ,  203.66864919662476\n",
      "0.17867294729148056 ,  213.93123626708984\n",
      "0.18679444489563876 ,  223.93980860710144\n",
      "0.19491594249979696 ,  233.26134181022644\n",
      "0.20303744010395516 ,  241.66882276535034\n",
      "0.21115893770811336 ,  251.81540322303772\n",
      "0.2192804353122716 ,  260.64390802383423\n",
      "0.2274019329164298 ,  271.6055347919464\n",
      "0.235523430520588 ,  281.0080728530884\n",
      "0.2436449281247462 ,  290.60262155532837\n"
     ]
    }
   ],
   "source": [
    "%pylab inline\n",
    "import time\n",
    "start= time.time()\n",
    "for i in range(np.size(gaia2_matches)):\n",
    "    ra, dec, parallax, vr, v_ra, v_dec = ra_list[i], dec_list[i], parallax_list[i], vr_list[i], pm_ra_list[i], pm_dec_list[i]\n",
    "    # use parallex to find radial distance\n",
    "    d = 1/parallax # since parallax is given in milliarcsecond, its inverse is kpc\n",
    "    # create orbit object\n",
    "    o.append(Orbit(vxvv = [ra,dec,d,v_ra, v_dec,vr], radec = True))\n",
    "    o[i].integrate(ts,MWPotential2014)\n",
    "    # store the x,y coordinate of each star after 20 Gyr\n",
    "    coordinate = (o[i].x(20),o[i].y(20))\n",
    "    star_coord.append(coordinate)\n",
    "    if i%100 == 0:\n",
    "        time_now = time.time() - start\n",
    "        print(i/np.size(gaia2_matches), \", \", time_now)\n",
    "    \n",
    "    \n",
    "# get the x,y coordinate into an array and save it\n",
    "star_coord = np.array(star_coord)\n",
    "x = star_coord[:, 0]\n",
    "y = star_coord[:,1]\n",
    "np.savez(\"x_y.npz\", x = x, y = y)"
   ]
  },
  {
   "cell_type": "code",
   "execution_count": null,
   "metadata": {},
   "outputs": [],
   "source": [
    "import pylab as plt\n",
    "plt.scatter(x,y, s = 0.1)\n",
    "plt.xlim(-30,30)\n",
    "plt.ylim(-30,30)\n",
    "plt.savefig(\"20 Gyr density plot.pdf\")"
   ]
  },
  {
   "cell_type": "code",
   "execution_count": 26,
   "metadata": {},
   "outputs": [
    {
     "name": "stdout",
     "output_type": "stream",
     "text": [
      "[ True  True  True ...  True  True  True]\n"
     ]
    }
   ],
   "source": [
    "data = np.load(\"x_y.npz\")\n",
    "nx=data['x']\n",
    "ny=data['y']\n",
    "\n",
    "print(x==nx)"
   ]
  }
 ],
 "metadata": {
  "kernelspec": {
   "display_name": "Python 3",
   "language": "python",
   "name": "python3"
  },
  "language_info": {
   "codemirror_mode": {
    "name": "ipython",
    "version": 3
   },
   "file_extension": ".py",
   "mimetype": "text/x-python",
   "name": "python",
   "nbconvert_exporter": "python",
   "pygments_lexer": "ipython3",
   "version": "3.6.4"
  }
 },
 "nbformat": 4,
 "nbformat_minor": 2
}
