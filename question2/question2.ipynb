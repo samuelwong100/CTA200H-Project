{
 "cells": [
  {
   "cell_type": "markdown",
   "metadata": {},
   "source": [
    "Problem Statement: Match the APOGEE-red-clump catalog to Gaia DR2, integrate the orbits using galpy for 20 Gyr, and make a density plot in Galactocentric X and Y coordinates of all of the positions of the stars over the next 20 Gyr."
   ]
  },
  {
   "cell_type": "code",
   "execution_count": 1,
   "metadata": {},
   "outputs": [],
   "source": [
    "import astropy.units as u\n",
    "import gaia_tools.load as gload\n",
    "import gaia_tools.xmatch as gmatch\n",
    "from galpy.potential import MWPotential2014\n",
    "from galpy.orbit import Orbit\n",
    "from astropy.coordinates import SkyCoord\n",
    "import numpy as np\n",
    "import time as time_class\n",
    "import matplotlib.pyplot as plt\n",
    "import os"
   ]
  },
  {
   "cell_type": "markdown",
   "metadata": {},
   "source": [
    "Load the data from APOGEE red clump and cross match with gaia2"
   ]
  },
  {
   "cell_type": "code",
   "execution_count": 3,
   "metadata": {},
   "outputs": [
    {
     "name": "stdout",
     "output_type": "stream",
     "text": [
      "C:\\Users\\user\\AppData\\Roaming\\Python\\Python36\\site-packages\\gaia_tools-0.2-py3.6.egg\\gaia_tools\\load\\__init__.py:94: UserWarning: Falling back on simple APOGEE interface; for more functionality, install the jobovy/apogee package\n",
      "  warnings.warn(\"Falling back on simple APOGEE interface; for more functionality, install the jobovy/apogee package\")\n",
      "\n"
     ]
    }
   ],
   "source": [
    "aprc = gload.apogeerc()\n",
    "# call the cross match cds function\n",
    "if os.path.exists(\"gaia_apogee_xmatch.csv\"):\n",
    "    gaia2_matches = gmatch.cds_load(\"gaia_apogee_xmatch.csv\")\n",
    "else:\n",
    "    gaia2_matches, matches_indx = gmatch.cds(aprc, xcat='vizier:I/345/gaia2', savefilename = \"gaia_apogee_xmatch.csv\")"
   ]
  },
  {
   "cell_type": "markdown",
   "metadata": {},
   "source": [
    "Since not all the stars have radial velocity, take out all the stars whose radial velocity is -9999.99 (an error value)"
   ]
  },
  {
   "cell_type": "code",
   "execution_count": 17,
   "metadata": {},
   "outputs": [
    {
     "name": "stdout",
     "output_type": "stream",
     "text": [
      "There are currently a total of 12313 stars.\n"
     ]
    }
   ],
   "source": [
    "gaia2_matches = gaia2_matches[gaia2_matches['radial_velocity'] != -9999.99]\n",
    "# store the number of stars to integrate\n",
    "number_of_stars = np.size(gaia2_matches)\n",
    "print('There are currently a total of {} stars.'.format(number_of_stars))"
   ]
  },
  {
   "cell_type": "markdown",
   "metadata": {},
   "source": [
    "Since there are a lot of stars, if user only wants to test a subset of the stars, they can set the list to the first few"
   ]
  },
  {
   "cell_type": "code",
   "execution_count": 18,
   "metadata": {},
   "outputs": [
    {
     "name": "stdout",
     "output_type": "stream",
     "text": [
      "Enter the number of stars you want to work with (has to be lower than current number):200\n"
     ]
    }
   ],
   "source": [
    "number_of_stars = int(input(\"Enter the number of stars you want to work with (has to be lower than current number):\"))"
   ]
  },
  {
   "cell_type": "markdown",
   "metadata": {},
   "source": [
    "Get the list of the 6 position and vleocity coordinates for all of the stars"
   ]
  },
  {
   "cell_type": "code",
   "execution_count": 19,
   "metadata": {},
   "outputs": [],
   "source": [
    "ra_list = gaia2_matches['ra']\n",
    "dec_list = gaia2_matches['dec']\n",
    "parallax_list = gaia2_matches['parallax']\n",
    "vr_list = gaia2_matches['radial_velocity']\n",
    "pm_ra_list = gaia2_matches['pmra']\n",
    "pm_dec_list = gaia2_matches['pmdec']"
   ]
  },
  {
   "cell_type": "markdown",
   "metadata": {},
   "source": [
    "Initialize variable needed for integrating orbit and storing the results"
   ]
  },
  {
   "cell_type": "code",
   "execution_count": 20,
   "metadata": {},
   "outputs": [],
   "source": [
    "# create time step array\n",
    "total_year = 20 # in giga year unit\n",
    "number_of_time_interval = 100 # divide total_year into this many time steps\n",
    "ts = np.linspace(0,total_year, number_of_time_interval)*u.Gyr\n",
    "# initialize orbit list\n",
    "o = []\n",
    "# initialize numpy array to store the list of star coordinate\n",
    "star_coord_x = np.empty((number_of_time_interval, number_of_stars))\n",
    "star_coord_y = np.empty((number_of_time_interval, number_of_stars))"
   ]
  },
  {
   "cell_type": "markdown",
   "metadata": {},
   "source": [
    "Create an orbit object for each star. Give user the option to use saved data."
   ]
  },
  {
   "cell_type": "code",
   "execution_count": 21,
   "metadata": {
    "scrolled": true
   },
   "outputs": [
    {
     "name": "stdout",
     "output_type": "stream",
     "text": [
      "integrated star  0\n",
      "galpyWarning: You specified integration times as a Quantity, but are evaluating at times not specified as a Quantity; assuming that time given is in natural (internal) units (multiply time by unit to get output at physical time)\n",
      "Completed: 0.0 %, time taken: 1.7501003742218018 \n",
      "integrated star  1\n",
      "integrated star  2\n",
      "integrated star  3\n",
      "integrated star  4\n",
      "integrated star  5\n",
      "integrated star  6\n",
      "integrated star  7\n",
      "integrated star  8\n",
      "integrated star  9\n",
      "integrated star  10\n",
      "integrated star  11\n",
      "integrated star  12\n",
      "integrated star  13\n",
      "integrated star  14\n",
      "integrated star  15\n",
      "integrated star  16\n",
      "integrated star  17\n",
      "integrated star  18\n",
      "integrated star  19\n",
      "integrated star  20\n",
      "integrated star  21\n",
      "integrated star  22\n",
      "integrated star  23\n",
      "integrated star  24\n",
      "integrated star  25\n",
      "integrated star  26\n",
      "integrated star  27\n",
      "integrated star  28\n",
      "integrated star  29\n",
      "integrated star  30\n",
      "integrated star  31\n",
      "integrated star  32\n",
      "integrated star  33\n",
      "integrated star  34\n",
      "integrated star  35\n",
      "integrated star  36\n",
      "integrated star  37\n",
      "integrated star  38\n",
      "integrated star  39\n",
      "integrated star  40\n",
      "integrated star  41\n",
      "integrated star  42\n",
      "integrated star  43\n",
      "integrated star  44\n",
      "integrated star  45\n",
      "integrated star  46\n",
      "integrated star  47\n",
      "integrated star  48\n",
      "integrated star  49\n",
      "integrated star  50\n",
      "integrated star  51\n",
      "integrated star  52\n",
      "integrated star  53\n",
      "integrated star  54\n",
      "integrated star  55\n",
      "integrated star  56\n",
      "integrated star  57\n",
      "integrated star  58\n",
      "integrated star  59\n",
      "integrated star  60\n",
      "integrated star  61\n",
      "integrated star  62\n",
      "integrated star  63\n",
      "integrated star  64\n",
      "integrated star  65\n",
      "integrated star  66\n",
      "integrated star  67\n",
      "integrated star  68\n",
      "integrated star  69\n",
      "integrated star  70\n",
      "integrated star  71\n",
      "integrated star  72\n",
      "integrated star  73\n",
      "integrated star  74\n",
      "integrated star  75\n",
      "integrated star  76\n",
      "integrated star  77\n",
      "integrated star  78\n",
      "integrated star  79\n",
      "integrated star  80\n",
      "integrated star  81\n",
      "integrated star  82\n",
      "integrated star  83\n",
      "integrated star  84\n",
      "integrated star  85\n",
      "integrated star  86\n",
      "integrated star  87\n",
      "integrated star  88\n",
      "integrated star  89\n",
      "integrated star  90\n",
      "integrated star  91\n",
      "integrated star  92\n",
      "integrated star  93\n",
      "integrated star  94\n",
      "integrated star  95\n",
      "integrated star  96\n",
      "integrated star  97\n",
      "integrated star  98\n",
      "integrated star  99\n",
      "integrated star  100\n",
      "Completed: 50.0 %, time taken: 157.67101860046387 \n",
      "integrated star  101\n",
      "integrated star  102\n",
      "integrated star  103\n",
      "integrated star  104\n",
      "integrated star  105\n",
      "integrated star  106\n",
      "integrated star  107\n",
      "integrated star  108\n",
      "integrated star  109\n",
      "integrated star  110\n",
      "integrated star  111\n",
      "integrated star  112\n",
      "integrated star  113\n",
      "integrated star  114\n",
      "integrated star  115\n",
      "integrated star  116\n",
      "integrated star  117\n",
      "integrated star  118\n",
      "integrated star  119\n",
      "integrated star  120\n",
      "integrated star  121\n",
      "integrated star  122\n",
      "integrated star  123\n",
      "integrated star  124\n",
      "integrated star  125\n",
      "integrated star  126\n",
      "integrated star  127\n",
      "integrated star  128\n",
      "integrated star  129\n",
      "integrated star  130\n",
      "integrated star  131\n",
      "integrated star  132\n",
      "integrated star  133\n",
      "integrated star  134\n",
      "integrated star  135\n",
      "integrated star  136\n",
      "integrated star  137\n",
      "integrated star  138\n",
      "integrated star  139\n",
      "integrated star  140\n",
      "integrated star  141\n",
      "integrated star  142\n",
      "integrated star  143\n",
      "integrated star  144\n",
      "integrated star  145\n",
      "integrated star  146\n",
      "integrated star  147\n",
      "integrated star  148\n",
      "integrated star  149\n",
      "integrated star  150\n",
      "integrated star  151\n",
      "integrated star  152\n",
      "integrated star  153\n",
      "integrated star  154\n",
      "integrated star  155\n",
      "integrated star  156\n",
      "integrated star  157\n",
      "integrated star  158\n",
      "integrated star  159\n",
      "integrated star  160\n",
      "integrated star  161\n",
      "integrated star  162\n",
      "integrated star  163\n",
      "integrated star  164\n",
      "integrated star  165\n",
      "integrated star  166\n",
      "integrated star  167\n",
      "integrated star  168\n",
      "integrated star  169\n",
      "integrated star  170\n",
      "integrated star  171\n",
      "integrated star  172\n",
      "integrated star  173\n",
      "integrated star  174\n",
      "integrated star  175\n",
      "integrated star  176\n",
      "integrated star  177\n",
      "integrated star  178\n",
      "integrated star  179\n",
      "integrated star  180\n",
      "integrated star  181\n",
      "integrated star  182\n",
      "integrated star  183\n",
      "integrated star  184\n",
      "integrated star  185\n",
      "integrated star  186\n",
      "integrated star  187\n",
      "integrated star  188\n",
      "integrated star  189\n",
      "integrated star  190\n",
      "integrated star  191\n",
      "integrated star  192\n",
      "integrated star  193\n",
      "integrated star  194\n",
      "integrated star  195\n",
      "integrated star  196\n",
      "integrated star  197\n",
      "integrated star  198\n",
      "integrated star  199\n"
     ]
    }
   ],
   "source": [
    "use_saved = input(\"Do you want to use saved data? (y/n)\")\n",
    "if use_saved ==  'n':\n",
    "    file_name = input(\"File name to store the star coordinates data (without extension): \")\n",
    "    file_name = file_name + '.npz'\n",
    "    \n",
    "    # initialize start time\n",
    "    start= time_class.time()\n",
    "    for i in range(number_of_stars):\n",
    "        # for each star, get the 6 coordinates from list\n",
    "        ra, dec, parallax, vr, v_ra, v_dec = ra_list[i], dec_list[i], parallax_list[i], vr_list[i], pm_ra_list[i], pm_dec_list[i]\n",
    "        # use parallex to find radial distance\n",
    "        d = 1/parallax # since parallax is given in milliarcsecond, its inverse is kpc\n",
    "\n",
    "        # create orbit object\n",
    "        # the units are already in desired form, radec = True means we are using righ ascention - declination initialization format\n",
    "        # in order for galpy to output physical unit, we need to set radius and velocity scale\n",
    "        o.append(Orbit(vxvv = [ra,dec,d,v_ra, v_dec,vr], radec = True, ro = 8., vo = 220.)) \n",
    "        # for each star, integrate their orbit over the next 20 Gyr using the most up-to-date Milky Way potential\n",
    "        o[i].integrate(ts,MWPotential2014)\n",
    "        print(\"integrated star \", i)\n",
    "\n",
    "        #run a loop that stores the position of the star at each time step\n",
    "        for t in range(number_of_time_interval):\n",
    "            star_coord_x[t][i] = o[i].x(t)\n",
    "            star_coord_y[t][i] = o[i].y(t)\n",
    "\n",
    "        # print out progess report and time taken\n",
    "        if i%100 == 0:\n",
    "            time_elapsed = time_class.time() - start\n",
    "            print(\"Completed: {} %, time taken: {} \".format(i/number_of_stars*100, time_elapsed))\n",
    "\n",
    "    # save the star coordinate array\n",
    "    np.savez(filename, star_coord_x = star_coord_x, star_coord_y = star_coord_y )\n",
    "    \n",
    "elif use_saved ==  'y':\n",
    "    file_name = input(\"File name to be opened (without extension): \")\n",
    "    file_name = file_name + '.npz'\n",
    "    data = np.load(file_name)\n",
    "    star_coord_x = data['star_coord_x']\n",
    "    star_coord_y = data['sta_coord_y']\n",
    "    \n",
    "else:\n",
    "    raise Exception(\"Answer must be (y/n)\")"
   ]
  },
  {
   "cell_type": "code",
   "execution_count": 33,
   "metadata": {},
   "outputs": [],
   "source": [
    "# create a list of all x and y position over all time\n",
    "list_of_all_x = np.empty(number_of_time_interval*number_of_stars)\n",
    "list_of_all_y = np.empty(number_of_time_interval*number_of_stars)\n",
    "counter = 0\n",
    "for t in range(number_of_time_interval):\n",
    "    for i in range(number_of_stars):\n",
    "        list_of_all_x[counter] = star_coord_x[t][i]\n",
    "        list_of_all_y[counter] = star_coord_y[t][i]\n",
    "        counter = counter + 1"
   ]
  },
  {
   "cell_type": "code",
   "execution_count": 34,
   "metadata": {},
   "outputs": [
    {
     "name": "stdout",
     "output_type": "stream",
     "text": [
      "Populating the interactive namespace from numpy and matplotlib\n"
     ]
    },
    {
     "data": {
      "text/plain": [
       "<matplotlib.colorbar.Colorbar at 0xc869b70>"
      ]
     },
     "execution_count": 34,
     "metadata": {},
     "output_type": "execute_result"
    },
    {
     "data": {
      "image/png": "[encoded data removed]",
      "text/plain": [
       "<matplotlib.figure.Figure at 0xb0834e0>"
      ]
     },
     "metadata": {},
     "output_type": "display_data"
    }
   ],
   "source": [
    "%pylab inline\n",
    "\n",
    "plt.hist2d(list_of_all_x,list_of_all_y, bins = 300, cmap = 'plasma', vmin = 0 , vmax = 5)\n",
    "plt.colorbar()"
   ]
  },
  {
   "cell_type": "code",
   "execution_count": null,
   "metadata": {},
   "outputs": [],
   "source": []
  },
  {
   "cell_type": "code",
   "execution_count": null,
   "metadata": {},
   "outputs": [],
   "source": []
  },
  {
   "cell_type": "code",
   "execution_count": null,
   "metadata": {},
   "outputs": [],
   "source": []
  }
 ],
 "metadata": {
  "kernelspec": {
   "display_name": "Python 3",
   "language": "python",
   "name": "python3"
  },
  "language_info": {
   "codemirror_mode": {
    "name": "ipython",
    "version": 3
   },
   "file_extension": ".py",
   "mimetype": "text/x-python",
   "name": "python",
   "nbconvert_exporter": "python",
   "pygments_lexer": "ipython3",
   "version": "3.6.4"
  }
 },
 "nbformat": 4,
 "nbformat_minor": 2
}
